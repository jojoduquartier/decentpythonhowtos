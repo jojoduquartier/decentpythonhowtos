{
 "cells": [
  {
   "cell_type": "markdown",
   "metadata": {},
   "source": [
    "# Decorator for better Data Science Projects"
   ]
  },
  {
   "cell_type": "markdown",
   "metadata": {},
   "source": [
    "## Primer\n",
    "\n",
    "Say we have to write a function to get input from users and add 2 to whatever number they enter. We can simply do this with one function. Let's say the function must return nothing if the input cannot be converted to a number. Let's say further that the user does not care about the output of adding 2 to their input; it's like a process in the background that does something to the user input and update a database."
   ]
  },
  {
   "cell_type": "code",
   "execution_count": 1,
   "metadata": {},
   "outputs": [],
   "source": [
    "import time\n",
    "import typing\n",
    "import random"
   ]
  },
  {
   "cell_type": "code",
   "execution_count": 2,
   "metadata": {},
   "outputs": [],
   "source": [
    "def get_input_add_2():\n",
    "    \"\"\"\n",
    "    Take some number from a user and add 2\n",
    "    \"\"\"\n",
    "    try:\n",
    "        return float(input(\"Please Enter a Number: \")) + 2\n",
    "    except ValueError as _:\n",
    "        return None"
   ]
  },
  {
   "cell_type": "code",
   "execution_count": 3,
   "metadata": {},
   "outputs": [
    {
     "name": "stdout",
     "output_type": "stream",
     "text": [
      "Please Enter a Number: 10\n"
     ]
    },
    {
     "data": {
      "text/plain": [
       "12.0"
      ]
     },
     "execution_count": 3,
     "metadata": {},
     "output_type": "execute_result"
    }
   ],
   "source": [
    "get_input_add_2()"
   ]
  },
  {
   "cell_type": "code",
   "execution_count": 4,
   "metadata": {},
   "outputs": [
    {
     "name": "stdout",
     "output_type": "stream",
     "text": [
      "Please Enter a Number: Jonah\n"
     ]
    }
   ],
   "source": [
    "get_input_add_2()"
   ]
  },
  {
   "cell_type": "markdown",
   "metadata": {},
   "source": [
    "Great! Say you get some feedback from the project manager and now have to make the input function a bit user friendly. Keep in mind that the user does not care about the output of your `add 2` process. It would make sense to separate things. Like so"
   ]
  },
  {
   "cell_type": "code",
   "execution_count": 5,
   "metadata": {},
   "outputs": [],
   "source": [
    "def add_2(some_number: typing.Union[float, None]) -> float:\n",
    "    \"\"\"\n",
    "    Add 2 to some number if that is not null\n",
    "    \"\"\"\n",
    "    return some_number + 2 if some_number is not None else None\n",
    "\n",
    "def get_input(user: str):\n",
    "    \"\"\"\n",
    "    asks user for input\n",
    "    \"\"\"\n",
    "    try:\n",
    "        return float(input(f\"Hi {user}! Please Entter a Number: \"))\n",
    "    except ValueError as _:\n",
    "        return None"
   ]
  },
  {
   "cell_type": "code",
   "execution_count": 6,
   "metadata": {},
   "outputs": [
    {
     "name": "stdout",
     "output_type": "stream",
     "text": [
      "Hi Josiah! Please Entter a Number: 10\n"
     ]
    }
   ],
   "source": [
    "user_input = get_input(\"Josiah\")"
   ]
  },
  {
   "cell_type": "code",
   "execution_count": 7,
   "metadata": {},
   "outputs": [
    {
     "data": {
      "text/plain": [
       "12.0"
      ]
     },
     "execution_count": 7,
     "metadata": {},
     "output_type": "execute_result"
    }
   ],
   "source": [
    "add_2(user_input)"
   ]
  },
  {
   "cell_type": "markdown",
   "metadata": {},
   "source": [
    "That's nice! We are just doing `add_2(get_input(\"Josiah\"))`. But note that this always involves:\n",
    "\n",
    "<ul>\n",
    "    <li>Calling get_input on its argument - this can take time if we have an expensive process</li>\n",
    "    <li></li>\n",
    "</ul>\n",
    "\n",
    "What if we want to do `add_2(get_input)(\"Josiah\")`? How can we go about it?\n",
    "\n",
    "First why is `add_2(get_input)(\"Josiah\")` better?\n",
    "\n",
    "<ul>\n",
    "    <li>\n",
    "        add_2(get_input) is actually supposed to be a function that takes an input. In other words, it will not run\n",
    "        whatever expensive process we have until we need said process to run.\n",
    "    </li>\n",
    "</ul>\n",
    "\n",
    "So what we need now is to make `add_2` a function that takes a function and returns another function. Let's see a skeleton"
   ]
  },
  {
   "cell_type": "code",
   "execution_count": 8,
   "metadata": {},
   "outputs": [],
   "source": [
    "# DO NOT RUN THIS\n",
    "def add_2(some_function):\n",
    "    # do something\n",
    "    return another_function"
   ]
  },
  {
   "cell_type": "markdown",
   "metadata": {},
   "source": [
    "The return of `add_2` as depicted above must do whatever it's input function is, plus add the 2! That means that somewhere in there, we should have a mechanism to accept the argument for `some_function` (in this case `get_input`) and do what we expect it to do."
   ]
  },
  {
   "cell_type": "code",
   "execution_count": 9,
   "metadata": {},
   "outputs": [],
   "source": [
    "def add_2(some_function):\n",
    "    \"\"\"\n",
    "    This should take any function that returns a number (like get_input)\n",
    "    \"\"\"\n",
    "    \n",
    "    def another_function(user):\n",
    "        \"\"\"\n",
    "        This function should take the arguments for get_input\n",
    "        \"\"\"\n",
    "        some_function_output = some_function(user)\n",
    "        return some_function_output + 2\n",
    "    \n",
    "    return another_function"
   ]
  },
  {
   "cell_type": "code",
   "execution_count": 10,
   "metadata": {},
   "outputs": [
    {
     "data": {
      "text/plain": [
       "<function __main__.add_2.<locals>.another_function(user)>"
      ]
     },
     "execution_count": 10,
     "metadata": {},
     "output_type": "execute_result"
    }
   ],
   "source": [
    "another_function = add_2(get_input)\n",
    "another_function"
   ]
  },
  {
   "cell_type": "code",
   "execution_count": 11,
   "metadata": {},
   "outputs": [
    {
     "name": "stdout",
     "output_type": "stream",
     "text": [
      "Hi Josiah! Please Entter a Number: 10\n"
     ]
    },
    {
     "data": {
      "text/plain": [
       "12.0"
      ]
     },
     "execution_count": 11,
     "metadata": {},
     "output_type": "execute_result"
    }
   ],
   "source": [
    "another_function(\"Josiah\")"
   ]
  },
  {
   "cell_type": "markdown",
   "metadata": {},
   "source": [
    "This is nice as we are simply manipulating functions without calling them until we need them! This saves time and makes things a lot more readable/maintainable.\n",
    "\n",
    "Note how we passed the `user` parameter for `another_function`. This is because we wanted to use `add_2` on `get_input` only. But this defeats the purpose of using functions; reusability! How do we remedy this?\n",
    "\n",
    "Answer: `*args` and `**kwargs`.\n",
    "\n",
    "Let's look at a better implementation"
   ]
  },
  {
   "cell_type": "code",
   "execution_count": 12,
   "metadata": {},
   "outputs": [],
   "source": [
    "def add_2(some_function):\n",
    "    \"\"\"\n",
    "    This should take any function that returns a number (like get_input)\n",
    "    \"\"\"\n",
    "    \n",
    "    def another_function(*args, **kwargs):\n",
    "        \"\"\"\n",
    "        This function can take any positional and keyword arguments needed for some_function to run\n",
    "        \"\"\"\n",
    "        some_function_output = some_function(*args, **kwargs)\n",
    "        return some_function_output + 2\n",
    "    \n",
    "    return another_function"
   ]
  },
  {
   "cell_type": "code",
   "execution_count": 13,
   "metadata": {},
   "outputs": [
    {
     "name": "stdout",
     "output_type": "stream",
     "text": [
      "Hi Josiah! Please Entter a Number: 10\n"
     ]
    },
    {
     "data": {
      "text/plain": [
       "12.0"
      ]
     },
     "execution_count": 13,
     "metadata": {},
     "output_type": "execute_result"
    }
   ],
   "source": [
    "add_2(get_input)(\"Josiah\")"
   ]
  },
  {
   "cell_type": "markdown",
   "metadata": {},
   "source": [
    "With the use of `*args` and `**kwargs`, we can now use `add_2` for any style of our `get_input` function."
   ]
  },
  {
   "cell_type": "code",
   "execution_count": 14,
   "metadata": {},
   "outputs": [],
   "source": [
    "def get_input_new(first_name: str, last_name: str):\n",
    "    \"\"\"\n",
    "    asks user for input\n",
    "    \"\"\"\n",
    "    try:\n",
    "        return float(input(f\"Hi {first_name}, {last_name}! Please Entter a Number: \"))\n",
    "    except ValueError as _:\n",
    "        return None"
   ]
  },
  {
   "cell_type": "code",
   "execution_count": 15,
   "metadata": {},
   "outputs": [
    {
     "name": "stdout",
     "output_type": "stream",
     "text": [
      "Hi Jonah, Hill! Please Entter a Number: 23\n"
     ]
    },
    {
     "data": {
      "text/plain": [
       "25.0"
      ]
     },
     "execution_count": 15,
     "metadata": {},
     "output_type": "execute_result"
    }
   ],
   "source": [
    "add_2(get_input_new)(\"Jonah\", \"Hill\")"
   ]
  },
  {
   "cell_type": "markdown",
   "metadata": {},
   "source": [
    "But! This is not really how decorators are used. let's change things up so that the function composition is done at the very same time we define our functions"
   ]
  },
  {
   "cell_type": "code",
   "execution_count": 16,
   "metadata": {},
   "outputs": [],
   "source": [
    "@add_2\n",
    "def get_input(user: str):\n",
    "    \"\"\"\n",
    "    asks user for input and adds 2\n",
    "    \"\"\"\n",
    "    try:\n",
    "        return float(input(f\"Hi {user}! Please Entter a Number: \"))\n",
    "    except ValueError as _:\n",
    "        return None\n",
    "    \n",
    "@add_2\n",
    "def get_input_new(first_name: str, last_name: str):\n",
    "    \"\"\"\n",
    "    asks user for input and adds 2\n",
    "    \"\"\"\n",
    "    try:\n",
    "        return float(input(f\"Hi {first_name}, {last_name}! Please Entter a Number: \"))\n",
    "    except ValueError as _:\n",
    "        return None"
   ]
  },
  {
   "cell_type": "code",
   "execution_count": 17,
   "metadata": {},
   "outputs": [
    {
     "name": "stdout",
     "output_type": "stream",
     "text": [
      "Hi Josiah! Please Entter a Number: 20\n"
     ]
    },
    {
     "data": {
      "text/plain": [
       "22.0"
      ]
     },
     "execution_count": 17,
     "metadata": {},
     "output_type": "execute_result"
    }
   ],
   "source": [
    "get_input(\"Josiah\")"
   ]
  },
  {
   "cell_type": "code",
   "execution_count": 18,
   "metadata": {},
   "outputs": [
    {
     "name": "stdout",
     "output_type": "stream",
     "text": [
      "Hi James, Franco! Please Entter a Number: 20\n"
     ]
    },
    {
     "data": {
      "text/plain": [
       "22.0"
      ]
     },
     "execution_count": 18,
     "metadata": {},
     "output_type": "execute_result"
    }
   ],
   "source": [
    "get_input_new(\"James\", \"Franco\")"
   ]
  },
  {
   "cell_type": "markdown",
   "metadata": {},
   "source": [
    "This is, I believe, the bulk of it. You should now understand decorators and if it helps, they are just **functions** that take in **functions** and return **functions**. You can stack them up and you can use `functools.wraps` to keep the documentation of your functions intact but we do not need to go over that.\n",
    "\n",
    "Say we want to add 2 to `get_input` and add 5 to `get_input_new`. Should we create two different decorators?\n",
    "\n",
    "Although we could, we do not need to and we should not. But this means that we need a new parameter to tell us when to add 2 and when to add 5. To do this:\n",
    "\n",
    "<ul>\n",
    "    <li>We could partially evaluate a function that takes 2 arguments, n and some_function. I recommend looking into [`functools.partial`(https://docs.python.org/3.7/library/functools.html#functools.partial). As the name (might) indicates, it takes a function and partially evaluates it.\n",
    "    </li>\n",
    "    <li>\n",
    "        We can create a function that takes an argument n and returns a function that takes as argument some_function\n",
    "    </li>\n",
    "</ul>\n",
    "\n",
    "We will do the latter"
   ]
  },
  {
   "cell_type": "code",
   "execution_count": 19,
   "metadata": {},
   "outputs": [],
   "source": [
    "def add_a_number(n: typing.Union[int, float]):\n",
    "    \"\"\"\n",
    "    This will take n and add it to the output of some functions\n",
    "    \"\"\"\n",
    "    def decorator(some_function):\n",
    "        \"\"\"\n",
    "        This should take any function that returns a number (like get_input)\n",
    "        \"\"\"\n",
    "        def another_function(*args, **kwargs):\n",
    "            \"\"\"\n",
    "            This function can take any positional and keyword arguments needed for some_function to run\n",
    "            \"\"\"\n",
    "            some_function_output = some_function(*args, **kwargs)\n",
    "            \n",
    "            return some_function_output + n\n",
    "\n",
    "        return another_function\n",
    "    \n",
    "    return decorator"
   ]
  },
  {
   "cell_type": "code",
   "execution_count": 20,
   "metadata": {},
   "outputs": [],
   "source": [
    "@add_a_number(2)\n",
    "def get_input(user: str):\n",
    "    \"\"\"\n",
    "    asks user for input and adds 2\n",
    "    \"\"\"\n",
    "    try:\n",
    "        return float(input(f\"Hi {user}! Please Entter a Number: \"))\n",
    "    except ValueError as _:\n",
    "        return None\n",
    "    \n",
    "@add_a_number(5)\n",
    "def get_input_new(first_name: str, last_name: str):\n",
    "    \"\"\"\n",
    "    asks user for input and adds 2\n",
    "    \"\"\"\n",
    "    try:\n",
    "        return float(input(f\"Hi {first_name}, {last_name}! Please Entter a Number: \"))\n",
    "    except ValueError as _:\n",
    "        return None"
   ]
  },
  {
   "cell_type": "code",
   "execution_count": 21,
   "metadata": {},
   "outputs": [
    {
     "name": "stdout",
     "output_type": "stream",
     "text": [
      "Hi Josiah! Please Entter a Number: 2\n"
     ]
    },
    {
     "data": {
      "text/plain": [
       "4.0"
      ]
     },
     "execution_count": 21,
     "metadata": {},
     "output_type": "execute_result"
    }
   ],
   "source": [
    "get_input(\"Josiah\")"
   ]
  },
  {
   "cell_type": "code",
   "execution_count": 22,
   "metadata": {},
   "outputs": [
    {
     "name": "stdout",
     "output_type": "stream",
     "text": [
      "Hi James, Franco! Please Entter a Number: 2\n"
     ]
    },
    {
     "data": {
      "text/plain": [
       "7.0"
      ]
     },
     "execution_count": 22,
     "metadata": {},
     "output_type": "execute_result"
    }
   ],
   "source": [
    "get_input_new(\"James\", \"Franco\")"
   ]
  },
  {
   "cell_type": "markdown",
   "metadata": {},
   "source": [
    "What happens if we do use `@add_a_number` instead of `@add_a_number(2)` on top of `get_input`?"
   ]
  },
  {
   "cell_type": "markdown",
   "metadata": {},
   "source": [
    "## Personal Experience\n",
    "\n",
    "Where did I benefit from using decorators?"
   ]
  },
  {
   "cell_type": "markdown",
   "metadata": {},
   "source": [
    "I worked on a project with some complex rules and data processing. There are different components to the project and the python functions we developped must only run after results from different (non-python) processes are posted. This means that we have to check a database for some conditions. \n",
    "\n",
    "<ul>\n",
    "    <li>These conditions can vary and came about months after the code was productionized and running. We could go back and update the code and run tests but that is fairly risky.\n",
    "    </li>\n",
    "    <li>\n",
    "        When the conditions are not met, we must wait a certain number of seconds (about an hour) and check the conditions again before running the complex process.\n",
    "    </li>\n",
    "    <li>\n",
    "        We also have to send an email/notification informing the other process owners to fix the problems. \n",
    "    </li>\n",
    "</ul>\n",
    "\n",
    "There is really no reason why this part should be added to a process that is already productionized and running. Instead what we can do is keep this part separate in a function that controls how our other process runs.\n",
    "\n",
    "This calls for decorators!"
   ]
  },
  {
   "cell_type": "code",
   "execution_count": 23,
   "metadata": {},
   "outputs": [],
   "source": [
    "# say we had this function already defined and tested and productionized. We do not want to touch it\n",
    "def complex_process(*args, **kwargs):\n",
    "    # a lot of convoluted stuff\n",
    "    return \"Complicated\""
   ]
  },
  {
   "cell_type": "code",
   "execution_count": 24,
   "metadata": {},
   "outputs": [],
   "source": [
    "# ideally you should have some small functions that return true or false so\n",
    "# you can call them again after n seconds. This is an overly simplified example\n",
    "def dummy_condition():\n",
    "    return random.choice([True, False])"
   ]
  },
  {
   "cell_type": "code",
   "execution_count": 25,
   "metadata": {},
   "outputs": [],
   "source": [
    "def run_after_n_seconds(seconds: int, email_receivers: typing.List[str] = ['someguy@mail.com']):\n",
    "    # take a number of seconds to wait\n",
    "    \n",
    "    def check_conditions_and_run(complex_function):\n",
    "        \n",
    "        def run_things(*args, **kwargs):\n",
    "            while not dummy_condition():\n",
    "                # wait some time\n",
    "                # use a logger instead of printing :)\n",
    "                print(f\"Condition not met! Waiting {seconds} seconds!\")\n",
    "                \n",
    "                # send email\n",
    "                time.sleep(seconds)\n",
    "            \n",
    "            output_of_complex = complex_function(*args, **kwargs)\n",
    "            \n",
    "            return output_of_complex\n",
    "        \n",
    "        return run_things\n",
    "    \n",
    "    return check_conditions_and_run\n",
    "            "
   ]
  },
  {
   "cell_type": "code",
   "execution_count": 26,
   "metadata": {},
   "outputs": [],
   "source": [
    "# Now all I need to do is, go to my python script where the complex function lies and just add the decorator\n",
    "@run_after_n_seconds(5)\n",
    "def complex_process(*args, **kwargs):\n",
    "    # a lot of convoluted stuff\n",
    "    return \"Complicated\""
   ]
  },
  {
   "cell_type": "code",
   "execution_count": 27,
   "metadata": {},
   "outputs": [
    {
     "name": "stdout",
     "output_type": "stream",
     "text": [
      "Condition not met! Waiting 5 seconds!\n"
     ]
    },
    {
     "data": {
      "text/plain": [
       "'Complicated'"
      ]
     },
     "execution_count": 27,
     "metadata": {},
     "output_type": "execute_result"
    }
   ],
   "source": [
    "complex_process()"
   ]
  },
  {
   "cell_type": "markdown",
   "metadata": {},
   "source": [
    "# Conclusion"
   ]
  },
  {
   "cell_type": "code",
   "execution_count": null,
   "metadata": {},
   "outputs": [],
   "source": []
  }
 ],
 "metadata": {
  "kernelspec": {
   "display_name": "Python 3",
   "language": "python",
   "name": "python3"
  },
  "language_info": {
   "codemirror_mode": {
    "name": "ipython",
    "version": 3
   },
   "file_extension": ".py",
   "mimetype": "text/x-python",
   "name": "python",
   "nbconvert_exporter": "python",
   "pygments_lexer": "ipython3",
   "version": "3.6.8"
  }
 },
 "nbformat": 4,
 "nbformat_minor": 2
}
