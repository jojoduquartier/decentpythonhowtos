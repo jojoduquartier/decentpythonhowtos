{
 "cells": [
  {
   "cell_type": "markdown",
   "metadata": {},
   "source": [
    "# SqlAlchemy and Pandas"
   ]
  },
  {
   "cell_type": "markdown",
   "metadata": {},
   "source": [
    "The following is a personal list of small things to speed up some data table creation/manipulation. \n",
    "\n",
    "Not everything is yet on the cloud and SqlAlchemy still provides some powerful tools to work with Relational Databases. This is perhaps something to help the new data scientist dealing with CRUD tasks while using pandas dataframes.\n",
    "\n",
    "<ol>\n",
    "    <li>Citations</li>\n",
    "        <ul>\n",
    "            <li>Python ...</li>\n",
    "            <li>Pandas ...</li>\n",
    "            <li>SqlAlchemy ...</li>\n",
    "        </ul>\n",
    "    <li>Resources</li>\n",
    "    <ul>\n",
    "        <li>\n",
    "            <a href=\"https://www.pythonsheets.com/notes/python-sqlalchemy.html\">SqlAlchemy Cheatsheet</a>\n",
    "        </li>\n",
    "    </ul>\n",
    "</ol>"
   ]
  },
  {
   "cell_type": "code",
   "execution_count": 1,
   "metadata": {},
   "outputs": [],
   "source": [
    "import json\n",
    "import pandas as pd\n",
    "import sqlalchemy as sa\n",
    "\n",
    "from collections import namedtuple\n",
    "from sqlalchemy.ext.declarative import declarative_base"
   ]
  },
  {
   "cell_type": "code",
   "execution_count": 2,
   "metadata": {},
   "outputs": [],
   "source": [
    "Base = declarative_base()\n",
    "engine = sa.create_engine('sqlite:///')"
   ]
  },
  {
   "cell_type": "code",
   "execution_count": 3,
   "metadata": {},
   "outputs": [],
   "source": [
    "class Song(Base):\n",
    "    __tablename__ = 'songs'\n",
    "    \n",
    "    name = sa.Column(sa.String(100), primary_key=True)\n",
    "    artist = sa.Column(sa.String(100), primary_key=True)\n",
    "    length = sa.Column(sa.Float, nullable=False)                  # the length in seconds\n",
    "    language = sa.Column(sa.String(20), nullable=False)         \n",
    "    country_of_release = sa.Column(sa.String(20), nullable=True)  # the default of nullable is True"
   ]
  },
  {
   "cell_type": "markdown",
   "metadata": {},
   "source": [
    "Let me start by saying that **Primary Keys** are very important in a relational database. Some convenient methods like `pandas.DataFrame.to_sql` may not always workout when duplicates are mistakenly inserted.\n",
    "\n",
    "Bare in mind that most people will stay away from any property that begins with `\"__\"` but in the case of the class above, the `__table__` method could be accessed by reflecting an existing table so I will make use of it. It is important to know the dangers associated with the `sa.Table` object; for example it has the `drop` property which can do serious damage if used accidentally.\n",
    "\n",
    "As you already know, you can create the table if it does not exist and you can insert data like so:"
   ]
  },
  {
   "cell_type": "code",
   "execution_count": 4,
   "metadata": {},
   "outputs": [],
   "source": [
    "# create\n",
    "Song.__table__.create(engine, checkfirst=True)"
   ]
  },
  {
   "cell_type": "code",
   "execution_count": 5,
   "metadata": {},
   "outputs": [],
   "source": [
    "# insert\n",
    "session = sa.orm.Session(engine)\n",
    "song_1 = Song(name=\"Bohemian Rhapsody\", artist=\"Queen\", length=355, language=\"English\")\n",
    "session.add(song_1) # there is an add_all method that adds a list of many instances\n",
    "session.commit()\n",
    "session.close()"
   ]
  },
  {
   "cell_type": "code",
   "execution_count": 6,
   "metadata": {},
   "outputs": [
    {
     "data": {
      "text/html": [
       "<div>\n",
       "<style scoped>\n",
       "    .dataframe tbody tr th:only-of-type {\n",
       "        vertical-align: middle;\n",
       "    }\n",
       "\n",
       "    .dataframe tbody tr th {\n",
       "        vertical-align: top;\n",
       "    }\n",
       "\n",
       "    .dataframe thead th {\n",
       "        text-align: right;\n",
       "    }\n",
       "</style>\n",
       "<table border=\"1\" class=\"dataframe\">\n",
       "  <thead>\n",
       "    <tr style=\"text-align: right;\">\n",
       "      <th></th>\n",
       "      <th>name</th>\n",
       "      <th>artist</th>\n",
       "      <th>length</th>\n",
       "      <th>language</th>\n",
       "      <th>country_of_release</th>\n",
       "    </tr>\n",
       "  </thead>\n",
       "  <tbody>\n",
       "    <tr>\n",
       "      <td>0</td>\n",
       "      <td>Bohemian Rhapsody</td>\n",
       "      <td>Queen</td>\n",
       "      <td>355.0</td>\n",
       "      <td>English</td>\n",
       "      <td>None</td>\n",
       "    </tr>\n",
       "  </tbody>\n",
       "</table>\n",
       "</div>"
      ],
      "text/plain": [
       "                name artist  length language country_of_release\n",
       "0  Bohemian Rhapsody  Queen   355.0  English               None"
      ]
     },
     "execution_count": 6,
     "metadata": {},
     "output_type": "execute_result"
    }
   ],
   "source": [
    "pd.read_sql('songs', engine)"
   ]
  },
  {
   "cell_type": "markdown",
   "metadata": {},
   "source": [
    "## Inserting directly from Pandas DataFrames\n",
    "\n",
    "Everything above is very trivial and can easily be done with a pandas DataFrame"
   ]
  },
  {
   "cell_type": "code",
   "execution_count": 7,
   "metadata": {},
   "outputs": [
    {
     "data": {
      "text/html": [
       "<div>\n",
       "<style scoped>\n",
       "    .dataframe tbody tr th:only-of-type {\n",
       "        vertical-align: middle;\n",
       "    }\n",
       "\n",
       "    .dataframe tbody tr th {\n",
       "        vertical-align: top;\n",
       "    }\n",
       "\n",
       "    .dataframe thead th {\n",
       "        text-align: right;\n",
       "    }\n",
       "</style>\n",
       "<table border=\"1\" class=\"dataframe\">\n",
       "  <thead>\n",
       "    <tr style=\"text-align: right;\">\n",
       "      <th></th>\n",
       "      <th>name</th>\n",
       "      <th>artist</th>\n",
       "      <th>length</th>\n",
       "      <th>language</th>\n",
       "      <th>country_of_release</th>\n",
       "    </tr>\n",
       "  </thead>\n",
       "  <tbody>\n",
       "    <tr>\n",
       "      <td>0</td>\n",
       "      <td>song 1</td>\n",
       "      <td>artist 1</td>\n",
       "      <td>300</td>\n",
       "      <td>English</td>\n",
       "      <td>None</td>\n",
       "    </tr>\n",
       "    <tr>\n",
       "      <td>1</td>\n",
       "      <td>song 2</td>\n",
       "      <td>artist 1</td>\n",
       "      <td>240</td>\n",
       "      <td>French</td>\n",
       "      <td>Canada</td>\n",
       "    </tr>\n",
       "  </tbody>\n",
       "</table>\n",
       "</div>"
      ],
      "text/plain": [
       "     name    artist  length language country_of_release\n",
       "0  song 1  artist 1     300  English               None\n",
       "1  song 2  artist 1     240   French             Canada"
      ]
     },
     "execution_count": 7,
     "metadata": {},
     "output_type": "execute_result"
    }
   ],
   "source": [
    "songs = pd.DataFrame({\"name\": [\"song 1\", \"song 2\"],\n",
    "                      \"artist\": [\"artist 1\", \"artist 1\"],\n",
    "                      \"length\": [300, 240],\n",
    "                      \"language\": [\"English\", \"French\"],\n",
    "                      \"country_of_release\": [None, \"Canada\"]})\n",
    "songs"
   ]
  },
  {
   "cell_type": "markdown",
   "metadata": {},
   "source": [
    "### Instances from the dataframe"
   ]
  },
  {
   "cell_type": "code",
   "execution_count": 8,
   "metadata": {},
   "outputs": [
    {
     "data": {
      "text/plain": [
       "[{'name': 'song 1',\n",
       "  'artist': 'artist 1',\n",
       "  'length': 300,\n",
       "  'language': 'English',\n",
       "  'country_of_release': None},\n",
       " {'name': 'song 2',\n",
       "  'artist': 'artist 1',\n",
       "  'length': 240,\n",
       "  'language': 'French',\n",
       "  'country_of_release': 'Canada'}]"
      ]
     },
     "execution_count": 8,
     "metadata": {},
     "output_type": "execute_result"
    }
   ],
   "source": [
    "records = songs.to_dict(orient=\"records\")\n",
    "records"
   ]
  },
  {
   "cell_type": "code",
   "execution_count": 9,
   "metadata": {},
   "outputs": [
    {
     "data": {
      "text/plain": [
       "<__main__.Song at 0x114fcf9e8>"
      ]
     },
     "execution_count": 9,
     "metadata": {},
     "output_type": "execute_result"
    }
   ],
   "source": [
    "song_instances = [Song(**record) for record in records]\n",
    "song_instances[0]"
   ]
  },
  {
   "cell_type": "code",
   "execution_count": 10,
   "metadata": {},
   "outputs": [],
   "source": [
    "session = sa.orm.Session(engine)\n",
    "session.add_all(song_instances)\n",
    "session.commit()\n",
    "session.close()"
   ]
  },
  {
   "cell_type": "code",
   "execution_count": 11,
   "metadata": {},
   "outputs": [
    {
     "data": {
      "text/html": [
       "<div>\n",
       "<style scoped>\n",
       "    .dataframe tbody tr th:only-of-type {\n",
       "        vertical-align: middle;\n",
       "    }\n",
       "\n",
       "    .dataframe tbody tr th {\n",
       "        vertical-align: top;\n",
       "    }\n",
       "\n",
       "    .dataframe thead th {\n",
       "        text-align: right;\n",
       "    }\n",
       "</style>\n",
       "<table border=\"1\" class=\"dataframe\">\n",
       "  <thead>\n",
       "    <tr style=\"text-align: right;\">\n",
       "      <th></th>\n",
       "      <th>name</th>\n",
       "      <th>artist</th>\n",
       "      <th>length</th>\n",
       "      <th>language</th>\n",
       "      <th>country_of_release</th>\n",
       "    </tr>\n",
       "  </thead>\n",
       "  <tbody>\n",
       "    <tr>\n",
       "      <td>0</td>\n",
       "      <td>Bohemian Rhapsody</td>\n",
       "      <td>Queen</td>\n",
       "      <td>355.0</td>\n",
       "      <td>English</td>\n",
       "      <td>None</td>\n",
       "    </tr>\n",
       "    <tr>\n",
       "      <td>1</td>\n",
       "      <td>song 1</td>\n",
       "      <td>artist 1</td>\n",
       "      <td>300.0</td>\n",
       "      <td>English</td>\n",
       "      <td>None</td>\n",
       "    </tr>\n",
       "    <tr>\n",
       "      <td>2</td>\n",
       "      <td>song 2</td>\n",
       "      <td>artist 1</td>\n",
       "      <td>240.0</td>\n",
       "      <td>French</td>\n",
       "      <td>Canada</td>\n",
       "    </tr>\n",
       "  </tbody>\n",
       "</table>\n",
       "</div>"
      ],
      "text/plain": [
       "                name    artist  length language country_of_release\n",
       "0  Bohemian Rhapsody     Queen   355.0  English               None\n",
       "1             song 1  artist 1   300.0  English               None\n",
       "2             song 2  artist 1   240.0   French             Canada"
      ]
     },
     "execution_count": 11,
     "metadata": {},
     "output_type": "execute_result"
    }
   ],
   "source": [
    "pd.read_sql('songs', engine)"
   ]
  },
  {
   "cell_type": "markdown",
   "metadata": {},
   "source": [
    "### Using `__table__`"
   ]
  },
  {
   "cell_type": "code",
   "execution_count": 12,
   "metadata": {},
   "outputs": [
    {
     "name": "stdout",
     "output_type": "stream",
     "text": [
      "INSERT INTO songs (name, artist, length, language, country_of_release) VALUES (:name, :artist, :length, :language, :country_of_release)\n"
     ]
    }
   ],
   "source": [
    "print(Song.__table__.insert())"
   ]
  },
  {
   "cell_type": "code",
   "execution_count": 13,
   "metadata": {},
   "outputs": [
    {
     "data": {
      "text/html": [
       "<div>\n",
       "<style scoped>\n",
       "    .dataframe tbody tr th:only-of-type {\n",
       "        vertical-align: middle;\n",
       "    }\n",
       "\n",
       "    .dataframe tbody tr th {\n",
       "        vertical-align: top;\n",
       "    }\n",
       "\n",
       "    .dataframe thead th {\n",
       "        text-align: right;\n",
       "    }\n",
       "</style>\n",
       "<table border=\"1\" class=\"dataframe\">\n",
       "  <thead>\n",
       "    <tr style=\"text-align: right;\">\n",
       "      <th></th>\n",
       "      <th>name</th>\n",
       "      <th>artist</th>\n",
       "      <th>length</th>\n",
       "      <th>language</th>\n",
       "      <th>country_of_release</th>\n",
       "    </tr>\n",
       "  </thead>\n",
       "  <tbody>\n",
       "    <tr>\n",
       "      <td>0</td>\n",
       "      <td>song 3</td>\n",
       "      <td>artist 1</td>\n",
       "      <td>300</td>\n",
       "      <td>English</td>\n",
       "      <td>None</td>\n",
       "    </tr>\n",
       "    <tr>\n",
       "      <td>1</td>\n",
       "      <td>song 4</td>\n",
       "      <td>artist 2</td>\n",
       "      <td>240</td>\n",
       "      <td>French</td>\n",
       "      <td>Canada</td>\n",
       "    </tr>\n",
       "  </tbody>\n",
       "</table>\n",
       "</div>"
      ],
      "text/plain": [
       "     name    artist  length language country_of_release\n",
       "0  song 3  artist 1     300  English               None\n",
       "1  song 4  artist 2     240   French             Canada"
      ]
     },
     "execution_count": 13,
     "metadata": {},
     "output_type": "execute_result"
    }
   ],
   "source": [
    "songs = pd.DataFrame({\"name\": [\"song 3\", \"song 4\"],\n",
    "                      \"artist\": [\"artist 1\", \"artist 2\"],\n",
    "                      \"length\": [300, 240],\n",
    "                      \"language\": [\"English\", \"French\"],\n",
    "                      \"country_of_release\": [None, \"Canada\"]})\n",
    "songs"
   ]
  },
  {
   "cell_type": "code",
   "execution_count": 14,
   "metadata": {},
   "outputs": [
    {
     "name": "stdout",
     "output_type": "stream",
     "text": [
      "Inserted 2 in songs\n"
     ]
    }
   ],
   "source": [
    "inserted = engine.execute(Song.__table__.insert(), songs.to_dict(orient=\"records\"))\n",
    "print(f\"Inserted {inserted.rowcount} in {Song.__tablename__}\")"
   ]
  },
  {
   "cell_type": "code",
   "execution_count": 15,
   "metadata": {},
   "outputs": [
    {
     "data": {
      "text/html": [
       "<div>\n",
       "<style scoped>\n",
       "    .dataframe tbody tr th:only-of-type {\n",
       "        vertical-align: middle;\n",
       "    }\n",
       "\n",
       "    .dataframe tbody tr th {\n",
       "        vertical-align: top;\n",
       "    }\n",
       "\n",
       "    .dataframe thead th {\n",
       "        text-align: right;\n",
       "    }\n",
       "</style>\n",
       "<table border=\"1\" class=\"dataframe\">\n",
       "  <thead>\n",
       "    <tr style=\"text-align: right;\">\n",
       "      <th></th>\n",
       "      <th>name</th>\n",
       "      <th>artist</th>\n",
       "      <th>length</th>\n",
       "      <th>language</th>\n",
       "      <th>country_of_release</th>\n",
       "    </tr>\n",
       "  </thead>\n",
       "  <tbody>\n",
       "    <tr>\n",
       "      <td>0</td>\n",
       "      <td>Bohemian Rhapsody</td>\n",
       "      <td>Queen</td>\n",
       "      <td>355.0</td>\n",
       "      <td>English</td>\n",
       "      <td>None</td>\n",
       "    </tr>\n",
       "    <tr>\n",
       "      <td>1</td>\n",
       "      <td>song 1</td>\n",
       "      <td>artist 1</td>\n",
       "      <td>300.0</td>\n",
       "      <td>English</td>\n",
       "      <td>None</td>\n",
       "    </tr>\n",
       "    <tr>\n",
       "      <td>2</td>\n",
       "      <td>song 2</td>\n",
       "      <td>artist 1</td>\n",
       "      <td>240.0</td>\n",
       "      <td>French</td>\n",
       "      <td>Canada</td>\n",
       "    </tr>\n",
       "    <tr>\n",
       "      <td>3</td>\n",
       "      <td>song 3</td>\n",
       "      <td>artist 1</td>\n",
       "      <td>300.0</td>\n",
       "      <td>English</td>\n",
       "      <td>None</td>\n",
       "    </tr>\n",
       "    <tr>\n",
       "      <td>4</td>\n",
       "      <td>song 4</td>\n",
       "      <td>artist 2</td>\n",
       "      <td>240.0</td>\n",
       "      <td>French</td>\n",
       "      <td>Canada</td>\n",
       "    </tr>\n",
       "  </tbody>\n",
       "</table>\n",
       "</div>"
      ],
      "text/plain": [
       "                name    artist  length language country_of_release\n",
       "0  Bohemian Rhapsody     Queen   355.0  English               None\n",
       "1             song 1  artist 1   300.0  English               None\n",
       "2             song 2  artist 1   240.0   French             Canada\n",
       "3             song 3  artist 1   300.0  English               None\n",
       "4             song 4  artist 2   240.0   French             Canada"
      ]
     },
     "execution_count": 15,
     "metadata": {},
     "output_type": "execute_result"
    }
   ],
   "source": [
    "pd.read_sql('songs', engine)"
   ]
  },
  {
   "cell_type": "markdown",
   "metadata": {},
   "source": [
    "One thing to keep in mind is the `__table__` approach above does not work well with `numpy.nan`, `numpy.NaN` or `pd.NaT`. It's best to use the `pandas.DataFrame.where(pandas.notnull(...), None)` to replace all missing values with the python default for null, `None`\n",
    "\n",
    "Alright great. Nothing interesting so far. But it is very possible to have some bad data that go right through the craks. Since we defined a class to represent our table, we can do many more things with it. \n",
    "\n",
    "For starters, we can create an `__init__` method so that we do not have to provide `**kwargs` to create instances.\n",
    "\n",
    "We can also spice things up by adding methods to create some quick `json` docs of the table. We can also create some simple validators for our data"
   ]
  },
  {
   "cell_type": "code",
   "execution_count": 16,
   "metadata": {},
   "outputs": [],
   "source": [
    "class SongImproved(Base):\n",
    "    __tablename__ = 'songs_improved'\n",
    "    \n",
    "    name = sa.Column(sa.String(100), primary_key=True)\n",
    "    artist = sa.Column(sa.String(100), primary_key=True)\n",
    "    length = sa.Column(sa.Float, nullable=False)                  # the length in seconds\n",
    "    language = sa.Column(sa.String(20), nullable=False)         \n",
    "    country_of_release = sa.Column(sa.String(20), nullable=True)  # the default of nullable is True\n",
    "    \n",
    "    def __init__(self, name: str, artist: str, length: float, language: str, country_of_release: str = None):\n",
    "        self.name = name\n",
    "        self.artist = artist\n",
    "        self.length = length\n",
    "        self.language = language\n",
    "        self.country_of_release = country_of_release\n",
    "        \n",
    "    @property\n",
    "    def primary_constraint(self):\n",
    "        \"\"\"\n",
    "        \"\"\"\n",
    "        return f\"name: {self.name}, artist: {self.artist}\"\n",
    "    \n",
    "    @classmethod\n",
    "    def column_order(cls):\n",
    "        \"\"\"\n",
    "        This is provides the columns in the order defined since we used the same order in the\n",
    "        __init__ method. This is useful when your dataframe has the same columns but in different order\n",
    "        \"\"\"\n",
    "        return [str(column.name) for column in cls.__table__.columns]\n",
    "        \n",
    "    @classmethod\n",
    "    def my_simple_docs(cls):\n",
    "        \"\"\"\n",
    "        Create a simple json doc of the table\n",
    "        \"\"\"\n",
    "        my_dict = {\n",
    "            \"table_name\": cls.__tablename__,\n",
    "            \"columns\": [\n",
    "                {\n",
    "                    \"name\": str(column.name),\n",
    "                    \"type\": str(column.type),\n",
    "                    \"primary_key\": column.primary_key,\n",
    "                    \"nullable\": column.nullable,                    \n",
    "                }\n",
    "                for column in cls.__table__.columns\n",
    "            ]\n",
    "        }\n",
    "        \n",
    "        return json.dumps(my_dict)\n",
    "    \n",
    "    @property\n",
    "    def my_simple_validator(self):\n",
    "        \"\"\"\n",
    "        This property can only be used before data instance is inserted or added to a session\n",
    "        \"\"\"\n",
    "        faults = []\n",
    "        Validated = namedtuple('Validated', ['validated', 'faults'])\n",
    "        attributes = (str(column.name) for column in self.__table__.columns)\n",
    "        \n",
    "        for attribute in attributes:\n",
    "            # if the property should be a string, we need to check the length as well\n",
    "            value, column = getattr(self, attribute), self.__table__.columns[attribute]\n",
    "            \n",
    "            if pd.isnull(value) and column.nullable:\n",
    "                continue\n",
    "                \n",
    "            if isinstance(value, column.type.python_type):\n",
    "                if isinstance(value, str) and len(value) > column.type.length:\n",
    "                    faults.append(\n",
    "                        f\"Song: {self.primary_constraint}: value {value} has length {len(value)} \\\n",
    "                        but {column.type.length} is the max\"\n",
    "                    )\n",
    "            else:\n",
    "                faults.append(\n",
    "                    f\"Song: {self.primary_constraint}: {value} is of type {type(value)} but \\\n",
    "                    {column.type.python_type} was expected\"\n",
    "                )\n",
    "                \n",
    "        return Validated(not faults, faults)"
   ]
  },
  {
   "cell_type": "code",
   "execution_count": 17,
   "metadata": {},
   "outputs": [
    {
     "data": {
      "text/plain": [
       "'{\"table_name\": \"songs_improved\", \"columns\": [{\"name\": \"name\", \"type\": \"VARCHAR(100)\", \"primary_key\": true, \"nullable\": false}, {\"name\": \"artist\", \"type\": \"VARCHAR(100)\", \"primary_key\": true, \"nullable\": false}, {\"name\": \"length\", \"type\": \"FLOAT\", \"primary_key\": false, \"nullable\": false}, {\"name\": \"language\", \"type\": \"VARCHAR(20)\", \"primary_key\": false, \"nullable\": false}, {\"name\": \"country_of_release\", \"type\": \"VARCHAR(20)\", \"primary_key\": false, \"nullable\": true}]}'"
      ]
     },
     "execution_count": 17,
     "metadata": {},
     "output_type": "execute_result"
    }
   ],
   "source": [
    "# Documentation - very simple but useful\n",
    "SongImproved.my_simple_docs()"
   ]
  },
  {
   "cell_type": "code",
   "execution_count": 18,
   "metadata": {},
   "outputs": [
    {
     "data": {
      "text/html": [
       "<div>\n",
       "<style scoped>\n",
       "    .dataframe tbody tr th:only-of-type {\n",
       "        vertical-align: middle;\n",
       "    }\n",
       "\n",
       "    .dataframe tbody tr th {\n",
       "        vertical-align: top;\n",
       "    }\n",
       "\n",
       "    .dataframe thead th {\n",
       "        text-align: right;\n",
       "    }\n",
       "</style>\n",
       "<table border=\"1\" class=\"dataframe\">\n",
       "  <thead>\n",
       "    <tr style=\"text-align: right;\">\n",
       "      <th></th>\n",
       "      <th>name</th>\n",
       "      <th>artist</th>\n",
       "      <th>length</th>\n",
       "      <th>language</th>\n",
       "      <th>country_of_release</th>\n",
       "    </tr>\n",
       "  </thead>\n",
       "  <tbody>\n",
       "    <tr>\n",
       "      <td>0</td>\n",
       "      <td>song 3</td>\n",
       "      <td>artist 1</td>\n",
       "      <td>300</td>\n",
       "      <td>English</td>\n",
       "      <td>None</td>\n",
       "    </tr>\n",
       "    <tr>\n",
       "      <td>1</td>\n",
       "      <td>song 4</td>\n",
       "      <td>artist 2</td>\n",
       "      <td>240</td>\n",
       "      <td>French         .             ,</td>\n",
       "      <td>Canada</td>\n",
       "    </tr>\n",
       "  </tbody>\n",
       "</table>\n",
       "</div>"
      ],
      "text/plain": [
       "     name    artist length                        language country_of_release\n",
       "0  song 3  artist 1    300                         English               None\n",
       "1  song 4  artist 2    240  French         .             ,             Canada"
      ]
     },
     "execution_count": 18,
     "metadata": {},
     "output_type": "execute_result"
    }
   ],
   "source": [
    "songs = pd.DataFrame({\"name\": [\"song 3\", \"song 4\"],\n",
    "                      \"artist\": [\"artist 1\", \"artist 2\"],\n",
    "                      \"length\": [300.0, \"240\"],\n",
    "                      \"language\": [\"English\", \"French         .             ,\"],\n",
    "                      \"country_of_release\": [None, \"Canada\"]})\n",
    "songs"
   ]
  },
  {
   "cell_type": "code",
   "execution_count": 19,
   "metadata": {},
   "outputs": [
    {
     "data": {
      "text/plain": [
       "[True, False]"
      ]
     },
     "execution_count": 19,
     "metadata": {},
     "output_type": "execute_result"
    }
   ],
   "source": [
    "song_instances = [SongImproved(*values) for values in songs[SongImproved.column_order()].values]\n",
    "\n",
    "# we can check which instances are valided directly like this\n",
    "[song_instance.my_simple_validator.validated for song_instance in song_instances]"
   ]
  },
  {
   "cell_type": "code",
   "execution_count": 20,
   "metadata": {},
   "outputs": [
    {
     "data": {
      "text/plain": [
       "Validated(validated=True, faults=[])"
      ]
     },
     "execution_count": 20,
     "metadata": {},
     "output_type": "execute_result"
    }
   ],
   "source": [
    "# as expected, the first row is totally fine\n",
    "song_instances[0].my_simple_validator"
   ]
  },
  {
   "cell_type": "code",
   "execution_count": 21,
   "metadata": {},
   "outputs": [
    {
     "data": {
      "text/plain": [
       "Validated(validated=False, faults=[\"Song: name: song 4, artist: artist 2: 240 is of type <class 'str'> but                     <class 'float'> was expected\", 'Song: name: song 4, artist: artist 2: value French         .             , has length 30                         but 20 is the max'])"
      ]
     },
     "execution_count": 21,
     "metadata": {},
     "output_type": "execute_result"
    }
   ],
   "source": [
    "# The second row is not correct and we can see two issues with it\n",
    "song_instances[1].my_simple_validator"
   ]
  },
  {
   "cell_type": "markdown",
   "metadata": {},
   "source": [
    "With some additonal work upfront, it is easy to catch instances where something went wrong. These examples are simple enough that they would have been noticed during data processing but eventually something slips through the cracks and it's nice to have some additional line of defense."
   ]
  },
  {
   "cell_type": "markdown",
   "metadata": {},
   "source": [
    "## Updating data using Pandas DataFrames\n",
    "\n",
    "I've noticed a couple of friends struggling with updating tables directly with dataframes. It is actually very easy to use SqlAlchemy Table objects to update records. The ORM objects can be used as well but I'll just skip over that"
   ]
  },
  {
   "cell_type": "code",
   "execution_count": 22,
   "metadata": {},
   "outputs": [
    {
     "data": {
      "text/plain": [
       "Ellipsis"
      ]
     },
     "execution_count": 22,
     "metadata": {},
     "output_type": "execute_result"
    }
   ],
   "source": [
    "..."
   ]
  },
  {
   "cell_type": "markdown",
   "metadata": {},
   "source": [
    "## Using Sqlalchemy over Raw SQL\n",
    "\n",
    "Sqlalchemy is not a replacement for raw sql strings. There are situations where you could create your complex sql queries directly with SqlAlchemy objects. One of the benefits of that is that you can actually refractor your object (if someone changed a column name) and all the fields will be updated as needed. As opposed to the sql query string where you may have to use the `ctrl+F` shortcut.\n",
    "\n",
    "What I like most about using the SqlAlchemy objects is that I can combine many of them using `f-strings`. This is manily because you could obtain the query strings created with SqlAlchemy so that your teammates do not have to learn SqlAlchemy; they can just read the sql query strings."
   ]
  },
  {
   "cell_type": "code",
   "execution_count": 23,
   "metadata": {},
   "outputs": [
    {
     "data": {
      "text/plain": [
       "Ellipsis"
      ]
     },
     "execution_count": 23,
     "metadata": {},
     "output_type": "execute_result"
    }
   ],
   "source": [
    "..."
   ]
  },
  {
   "cell_type": "code",
   "execution_count": null,
   "metadata": {},
   "outputs": [],
   "source": []
  }
 ],
 "metadata": {
  "kernelspec": {
   "display_name": "Python 3",
   "language": "python",
   "name": "python3"
  },
  "language_info": {
   "codemirror_mode": {
    "name": "ipython",
    "version": 3
   },
   "file_extension": ".py",
   "mimetype": "text/x-python",
   "name": "python",
   "nbconvert_exporter": "python",
   "pygments_lexer": "ipython3",
   "version": "3.7.3"
  }
 },
 "nbformat": 4,
 "nbformat_minor": 2
}
